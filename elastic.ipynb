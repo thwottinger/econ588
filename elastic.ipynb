{
 "cells": [
  {
   "cell_type": "markdown",
   "metadata": {},
   "source": [
    "# Introduction\n",
    "In this section introduce your method. Describe conceptually the problem it solves. Summarize the relevant literature, citing your sources."
   ]
  },
  {
   "cell_type": "markdown",
   "metadata": {},
   "source": [
    "# Econometric Framework\n",
    "In this section develop the econometric setting in which your method applies. Define your notation, model, and assumptions. Mathematical notation in this environment is similar to Latex: $y_i=x_i'\\beta+\\varepsilon_i$."
   ]
  },
  {
   "cell_type": "markdown",
   "metadata": {},
   "source": [
    "# Simulations"
   ]
  },
  {
   "cell_type": "markdown",
   "metadata": {},
   "source": [
    "A model to illustrate Elastic Net via Monte Carlo simulations is a multiple regression with dependent variable y, independent variables comprising x, unknown parameters comprising $\\beta$, and an error term $\\varepsilon$<br />\n",
    "$y_i=x_i'\\beta+\\varepsilon_i$ <br />\n",
    "For the purposes of Monte Carlo simulation, values for y will be calculated using known parameters of $\\beta$ that are as follows: <br />\n",
    "$\\beta = (20, 20, 10, 10, 1, ._{8}., 1, 0, ._{34}., 0)^T$ <br />\n",
    "The number of predictors and number of observations are as follows: <br />\n",
    "$p = 50$ <br />\n",
    "$n = 100$ <br />\n",
    "Predictors will be correlated as follows: <br />\n",
    "$Cov(X)_{ij} = (0.7)^{|i-j|}$ <br />\n",
    "The means of the multivariate normal distribution from which X will be sampled are all 0. The error term follows a normal distribution with a mean of 0 and a variance of 400.\n",
    "This model provides a series of problems for normal (OLS) estimation. First, the number of predictors is high and many of those predictors have no effect on y. Second, the predictors are correlated with each-other. <br />\n",
    "To solve these problems, LASSO can do variable selection to reduce the problems involved with a high number of noisy predictors, and Ridge can reduce the penalties of multicollinearity with variable shrinkage. Elastic Net allows us to gain some of the advantages of both."
   ]
  },
  {
   "cell_type": "code",
   "execution_count": 295,
   "metadata": {},
   "outputs": [],
   "source": [
    "import numpy\n",
    "import math\n",
    "from sklearn.linear_model import ElasticNet\n",
    "from sklearn.model_selection import train_test_split\n",
    "import matplotlib.pyplot as plt\n",
    "import statsmodels.api as sm\n",
    "\n",
    "\n",
    "numpy.random.seed(12)\n",
    "def xxCov(a, b):\n",
    "    return math.pow(0.7, abs(a-b))\n",
    "n = 100\n",
    "p = 50\n",
    "A = range(1, p + 1)\n",
    "B = range(1, p + 1)\n",
    "r = numpy.zeros((len(A),len(B)))\n",
    "for i in range(len(A)):\n",
    "    for j in range(len(B)):\n",
    "        r[i,j] = xxCov(A[i], B[j])\n",
    "\n",
    "beta = [20, 20, 10, 10]\n",
    "beta.extend(numpy.ones(10))\n",
    "beta.extend(numpy.zeros(36))\n",
    "runs = 1000\n",
    "\n",
    "mseEl = []\n",
    "mseReg = []\n",
    "\n",
    "for i in range(0, runs):\n",
    "    x = numpy.random.multivariate_normal([0] * p, r, n)\n",
    "    y = []\n",
    "    for j in range(0, n):\n",
    "        y.append(sum(beta[0] * sum(x[j][range(0, 2)]) + beta[2] * sum(x[j][range(2, 2)]) \\\n",
    "                + beta[4] * sum(x[j][range(4, 10)]) \\\n",
    "                + beta[14] * sum(x[j][range(14, 36)]) + numpy.random.normal(0, 20, 1)))\n",
    "    x_train, x_test, y_train, y_test = train_test_split(x, y, test_size=0.33)    \n",
    "    \n",
    "    mseElParts = []\n",
    "    \n",
    "    for j in numpy.arange(0, 1.1, 0.1):\n",
    "        reg = ElasticNet(alpha=1, fit_intercept=True, l1_ratio=j)\n",
    "        reg.fit(x_train, y_train)\n",
    "        mseElParts.append(numpy.mean((y_test - reg.predict(x_test)) ** 2))\n",
    "        \n",
    "        \n",
    "    mseEl.append(mseElParts)\n",
    "        \n",
    "    ols = sm.OLS(y_train, x_train)\n",
    "    results = ols.fit()\n",
    "    mseReg.append(numpy.mean((y_test - results.predict(x_test)) ** 2))"
   ]
  },
  {
   "cell_type": "code",
   "execution_count": 297,
   "metadata": {},
   "outputs": [
    {
     "name": "stdout",
     "output_type": "stream",
     "text": [
      "Mean and Standard Deviation for MSE of Ridge Regression\n",
      "Mean: 732.2928446069158 Standard Deviation: 190.7519431635467 \n",
      "\n",
      "Mean and Standard Deviation for MSE of Elastic Net with alpha of 0.1\n",
      "Mean: 711.3550827735087 Standard Deviation: 185.20300018144144 \n",
      "\n",
      "Mean and Standard Deviation for MSE of Elastic Net with alpha of 0.2\n",
      "Mean: 689.4706028284032 Standard Deviation: 179.34652829128615 \n",
      "\n",
      "Mean and Standard Deviation for MSE of Elastic Net with alpha of 0.3\n",
      "Mean: 666.658055433091 Standard Deviation: 173.23361393805274 \n",
      "\n",
      "Mean and Standard Deviation for MSE of Elastic Net with alpha of 0.4\n",
      "Mean: 642.9537128317969 Standard Deviation: 166.80550972251066 \n",
      "\n",
      "Mean and Standard Deviation for MSE of Elastic Net with alpha of 0.5\n",
      "Mean: 618.5041853383922 Standard Deviation: 160.04708268129463 \n",
      "\n",
      "Mean and Standard Deviation for MSE of Elastic Net with alpha of 0.6\n",
      "Mean: 593.5502707352089 Standard Deviation: 153.13173030505374 \n",
      "\n",
      "Mean and Standard Deviation for MSE of Elastic Net with alpha of 0.7\n",
      "Mean: 569.0756595001313 Standard Deviation: 146.2717232764386 \n",
      "\n",
      "Mean and Standard Deviation for MSE of Elastic Net with alpha of 0.8\n",
      "Mean: 546.6907553502809 Standard Deviation: 139.9025948951879 \n",
      "\n",
      "Mean and Standard Deviation for MSE of Elastic Net with alpha of 0.9\n",
      "Mean: 530.4414858166595 Standard Deviation: 135.62188202407665 \n",
      "\n",
      "Mean and Standard Deviation for MSE of LASSO Regression\n",
      "Mean: 534.5892138996434 Standard Deviation: 139.08664256657082 \n",
      "\n",
      "Mean and Standard Deviation for OLS\n",
      "Mean: 1622.7342276969966 Standard Deviation: 683.2653460826489\n"
     ]
    }
   ],
   "source": [
    "print \"Mean and Standard Deviation for MSE of Ridge Regression\"\n",
    "print \"Mean:\", numpy.mean([item[0] for item in mseEl]), \"Standard Deviation:\", numpy.std([item[0] for item in mseEl]), \"\\n\"\n",
    "for i in range(1, 10):\n",
    "    print \"Mean and Standard Deviation for MSE of Elastic Net with alpha of\", i / 10.0\n",
    "    print \"Mean:\", numpy.mean([item[i] for item in mseEl]), \"Standard Deviation:\", numpy.std([item[i] for item in mseEl]), \"\\n\"\n",
    "print \"Mean and Standard Deviation for MSE of LASSO Regression\"\n",
    "print \"Mean:\", numpy.mean([item[10] for item in mseEl]), \"Standard Deviation:\", numpy.std([item[10] for item in mseEl]), \"\\n\"\n",
    "print \"Mean and Standard Deviation for OLS\"\n",
    "print \"Mean:\", numpy.mean(mseReg), \"Standard Deviation:\", numpy.std(mseReg)"
   ]
  },
  {
   "cell_type": "markdown",
   "metadata": {},
   "source": [
    "# Empirical Example\n",
    "In this section give relevant background information on the empirical example you have chosen.\n",
    "## Description of the Data and Setting\n",
    "Show summary statistics and graphs of your data. "
   ]
  },
  {
   "cell_type": "code",
   "execution_count": null,
   "metadata": {
    "collapsed": true
   },
   "outputs": [],
   "source": [
    "# Include the code which loads the data, displays summary statistics and graphs right here."
   ]
  },
  {
   "cell_type": "markdown",
   "metadata": {},
   "source": [
    "## Results"
   ]
  },
  {
   "cell_type": "code",
   "execution_count": null,
   "metadata": {
    "collapsed": true
   },
   "outputs": [],
   "source": [
    "# include code that implements your method and reports the results."
   ]
  },
  {
   "cell_type": "markdown",
   "metadata": {},
   "source": [
    "Do not forget to discuss and interpret your results."
   ]
  },
  {
   "cell_type": "markdown",
   "metadata": {},
   "source": [
    "# Conclusion\n",
    "Summarize what you have taught us in this section."
   ]
  }
 ],
 "metadata": {
  "kernelspec": {
   "display_name": "Python 2",
   "language": "python",
   "name": "python2"
  },
  "language_info": {
   "codemirror_mode": {
    "name": "ipython",
    "version": 2
   },
   "file_extension": ".py",
   "mimetype": "text/x-python",
   "name": "python",
   "nbconvert_exporter": "python",
   "pygments_lexer": "ipython2",
   "version": "2.7.12"
  }
 },
 "nbformat": 4,
 "nbformat_minor": 2
}
