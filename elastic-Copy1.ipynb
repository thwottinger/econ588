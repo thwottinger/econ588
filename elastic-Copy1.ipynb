{
 "cells": [
  {
   "cell_type": "markdown",
   "metadata": {},
   "source": [
    "# Introduction\n",
    "In this section introduce your method. Describe conceptually the problem it solves. Summarize the relevant literature, citing your sources."
   ]
  },
  {
   "cell_type": "markdown",
   "metadata": {},
   "source": [
    "# Econometric Framework\n",
    "In this section develop the econometric setting in which your method applies. Define your notation, model, and assumptions. Mathematical notation in this environment is similar to Latex: $y_i=x_i'\\beta+\\varepsilon_i$."
   ]
  },
  {
   "cell_type": "markdown",
   "metadata": {},
   "source": [
    "# Simulations"
   ]
  },
  {
   "cell_type": "markdown",
   "metadata": {},
   "source": [
    "A model to illustrate Elastic Net via Monte Carlo simulations is a multiple regression with dependent variable y, independent variables comprising x, unknown parameters comprising $\\beta$, and an error term $\\varepsilon$<br />\n",
    "$y_i=x_i'\\beta+\\varepsilon_i$ <br />\n",
    "For the purposes of Monte Carlo simulation, values for y will be calculated using known parameters of $\\beta$ that are as follows: <br />\n",
    "$\\beta = (10, 10, 5, 5, 1, ._{98}., 1, 0, ._{394}., 0)^T$ <br />\n",
    "The number of predictors and number of observations are as follows: <br />\n",
    "$p = 500$ <br />\n",
    "$n = 200$ <br />\n",
    "Predictors will be correlated as follows: <br />\n",
    "$Cov(X)_{ij} = (0.7)^{|i-j|}$ <br />\n",
    "The means of the multivariate normal distribution from which X will be sampled are all 0. The error term follows a normal distribution with a mean of 0 and a variance of 1.\n",
    "This model provides a series of problems for normal (OLS) estimation. First, the number of predictors is high and many of those predictors have no effect on y. Second, the predictors are correlated with each-other. <br />\n",
    "To solve these problems, LASSO can do variable selection to reduce the problems involved with a high number of noisy predictors, and Ridge can reduce the penalties of multicollinearity with variable shrinkage. Elastic Net allows us to gain some of the advantages of both."
   ]
  },
  {
   "cell_type": "code",
   "execution_count": 7,
   "metadata": {},
   "outputs": [
    {
     "name": "stdout",
     "output_type": "stream",
     "text": [
      "0 1 2 3 4 5 6 7 8 9 10 11 12 13 14 15 16 17 18 19 20 21 22 23 24 25 26 27 28 29 30 31 32 33 34 35 36 37 38 39 40 41 42 43 44 45 46 47 48 49 50 51 52 53 54 55 56 57 58 59 60 61 62 63 64 65 66 67 68 69 70 71 72 73 74 75 76 77 78 79 80 81 82 83 84 85 86 87 88 89 90 91 92 93 94 95 96 97 98 99\n"
     ]
    }
   ],
   "source": [
    "import numpy\n",
    "import math\n",
    "from sklearn.linear_model import ElasticNet\n",
    "from sklearn.linear_model import ElasticNetCV\n",
    "from sklearn.model_selection import train_test_split\n",
    "import matplotlib.pyplot as plt\n",
    "import statsmodels.api as sm\n",
    "\n",
    "\n",
    "numpy.random.seed(12)\n",
    "def xxCov(a, b):\n",
    "    return math.pow(0.7, abs(a-b))\n",
    "n = 200\n",
    "p = 500\n",
    "A = range(1, p + 1)\n",
    "B = range(1, p + 1)\n",
    "r = numpy.zeros((len(A),len(B)))\n",
    "for i in range(len(A)):\n",
    "    for j in range(len(B)):\n",
    "        r[i,j] = xxCov(A[i], B[j])\n",
    "\n",
    "beta = [10, 10, 5, 5]\n",
    "beta.extend(numpy.ones(100))\n",
    "beta.extend(numpy.zeros(p - len(beta)))\n",
    "runs = 100\n",
    "\n",
    "mseEl = []\n",
    "mseReg = []\n",
    "bCoefs = []\n",
    "lambdas = [.9, 1]\n",
    "for i in range(0, runs):\n",
    "    x = numpy.random.multivariate_normal([0] * p, r, n)\n",
    "    y = []\n",
    "    for j in range(0, n):\n",
    "        y.append(sum([a*b for a,b in zip(beta,x[j])]) + sum(numpy.random.normal(0, 1, 1)))\n",
    "    x_train, x_test, y_train, y_test = train_test_split(x, y, test_size=0.33)    \n",
    "    mseElParts = []\n",
    "    bParts = []\n",
    "    \n",
    "    reg = ElasticNetCV(alphas=numpy.arange(0.01, 0.1, 0.01), cv=5, fit_intercept=True, l1_ratio=0)\n",
    "    reg.fit(x_train, y_train)\n",
    "    mseElParts.append(numpy.mean((y_test - reg.predict(x_test)) ** 2))\n",
    "    bParts.append(reg.coef_)\n",
    "    \n",
    "    for j in lambdas:\n",
    "        reg = ElasticNetCV(cv=5, fit_intercept=True, l1_ratio=j)\n",
    "        reg.fit(x_train, y_train)\n",
    "        mseElParts.append(numpy.mean((y_test - reg.predict(x_test)) ** 2))\n",
    "        bParts.append(reg.coef_)\n",
    "        \n",
    "        \n",
    "    mseEl.append(mseElParts)\n",
    "    x_train = sm.add_constant(x_train)\n",
    "    x_test = sm.add_constant(x_test)\n",
    "    ols = sm.OLS(y_train, x_train)\n",
    "    results = ols.fit()\n",
    "    bParts.append(results.params)\n",
    "    bCoefs.append(bParts)\n",
    "    mseReg.append(numpy.mean((y_test - results.predict(x_test)) ** 2))\n",
    "    print i,"
   ]
  },
  {
   "cell_type": "code",
   "execution_count": 12,
   "metadata": {},
   "outputs": [
    {
     "name": "stdout",
     "output_type": "stream",
     "text": [
      "Mean and Standard Deviation for MSE of Ridge Regression\n",
      "Mean: 221.92111811129854 Standard Deviation: 53.7774189042728 \n",
      "\n",
      "Mean and Standard Deviation for MSE of Elastic Net with lambda of 0.9\n",
      "Mean: 26.836244126281716 Standard Deviation: 10.518996635510035 \n",
      "\n",
      "Mean and Standard Deviation for MSE of LASSO Regression\n",
      "Mean: 31.979416753952087 Standard Deviation: 11.289221942052153 \n",
      "\n",
      "Mean and Standard Deviation for OLS\n",
      "Mean: 223.25917909821635 Standard Deviation: 52.427523700104466\n"
     ]
    },
    {
     "data": {
      "image/png": "[encoded data removed]",
      "text/plain": [
       "<Figure size 432x288 with 1 Axes>"
      ]
     },
     "metadata": {},
     "output_type": "display_data"
    },
    {
     "name": "stdout",
     "output_type": "stream",
     "text": [
      "[ 3.01570696e-01  5.16073566e+00  5.29595571e+00  4.54566650e+00\n",
      "  3.73344197e+00  2.33915679e+00  1.10912867e+00  1.64942179e-01\n",
      "  5.66978893e-01  5.02936159e-01  3.72593968e-01  4.13067674e-01\n",
      "  1.38917184e-01  1.05593377e+00  1.60864510e+00  8.75741488e-01\n",
      "  8.54481925e-01  3.58712046e-01  1.16416842e+00  1.32603301e+00\n",
      "  3.12255591e-01  8.94554662e-01  7.16298500e-01  9.93606973e-01\n",
      "  7.90308087e-01  7.87746166e-01  5.50422005e-01  4.85153338e-01\n",
      "  1.05364886e+00  3.56816512e-01  6.65605417e-01  1.45812355e+00\n",
      "  1.32692411e+00  6.86509734e-02  6.34037305e-01 -4.33473335e-02\n",
      "  4.57418220e-01  9.28118649e-01  6.75360150e-01  8.33400939e-01\n",
      "  3.48396394e-01  7.79775391e-01  7.40120513e-01  8.79937184e-01\n",
      "  5.74282768e-01  3.69832482e-01  7.04757925e-01  1.10851534e+00\n",
      "  8.74348481e-01  1.67790618e+00  7.26682159e-01  7.73384443e-01\n",
      "  6.25094214e-01  5.40410693e-01  8.45416654e-01  7.04551435e-01\n",
      "  1.14179163e+00  1.20461380e+00  1.02313110e+00  2.05419691e-01\n",
      "  7.36458949e-01  1.15741579e+00  6.42360552e-01  1.01154760e+00\n",
      "  9.82986314e-01  6.86916239e-01  3.42214605e-01  4.52893290e-01\n",
      "  1.30232513e+00  9.74823177e-01  1.15534399e+00  8.35074412e-01\n",
      "  6.07998086e-01  1.26912632e-01  1.10881775e+00  3.53831397e-01\n",
      "  1.37182034e-01  5.86414075e-01  6.12699902e-01  8.87624845e-01\n",
      "  8.97298887e-02  5.56997990e-01  1.34118928e+00  7.10903839e-01\n",
      "  3.07369066e-01  6.26816732e-01  1.33340110e+00  9.46810203e-01\n",
      "  8.27007284e-01  7.90920172e-01  7.36855854e-01  1.30016499e+00\n",
      "  1.70265103e+00  1.17676005e+00  6.29481568e-01  5.54770357e-01\n",
      "  5.35599031e-01  3.37905349e-01  1.40270247e-01  9.15579181e-01\n",
      "  1.00745255e+00  1.12389149e+00  8.15336179e-01  8.28379415e-01\n",
      "  3.46098160e-02  9.67870243e-01  3.11643334e-01  2.36984482e-01\n",
      "  4.48311438e-01  4.35102151e-01  6.76396348e-02 -1.25462208e-01\n",
      " -6.84190706e-02 -1.00895685e-01  7.04566145e-02 -1.02422844e-01\n",
      " -4.79567601e-02  3.71128343e-01  2.85661060e-01 -5.11943734e-01\n",
      " -7.55743641e-01 -4.14686715e-01 -5.56900861e-01  2.50170483e-01\n",
      "  1.88192590e-01  1.65397588e-02  1.65375928e-01  3.13196360e-01\n",
      " -7.87921764e-01 -6.06635507e-01 -2.49654587e-01  2.68001753e-01\n",
      " -8.68092697e-01 -5.40179149e-01 -4.29112794e-01 -1.44802896e-01\n",
      "  3.34426434e-01  7.74060658e-01  2.41352929e-01  1.93143579e-01\n",
      " -5.70564257e-01 -8.57149478e-01 -6.89741593e-01 -7.14608148e-02\n",
      " -3.17650296e-02  5.38910772e-01  4.72184963e-01  1.82684097e-01\n",
      " -2.79151903e-02 -1.61231129e-01 -2.40726733e-01  1.37614534e-02\n",
      "  3.05003238e-01 -1.80609663e-01 -1.66479485e-01 -2.42593360e-01\n",
      "  1.70241163e-01  1.46834647e-01  3.39418057e-03  9.48864002e-02\n",
      "  4.89450708e-01 -8.97047863e-02 -6.96498899e-01 -2.19733007e-02\n",
      "  9.44878678e-02  4.93897542e-02 -1.19552159e-01 -1.68920466e-02\n",
      " -2.95329825e-01 -2.12845854e-01 -1.82755784e-01  2.44929342e-01\n",
      "  5.51116209e-01 -1.49847717e-01 -1.41382274e-01 -1.90738890e-01\n",
      "  2.98543420e-01  4.98004573e-01 -1.41758059e-01  6.37025960e-01\n",
      " -1.90358743e-01  8.45367107e-01 -4.53633888e-01 -1.55762689e-01\n",
      " -3.41218877e-01  2.58125027e-01 -4.21103978e-01 -1.63799222e-01\n",
      "  5.28501688e-01  5.67642943e-01 -5.29214031e-01 -6.08371414e-01\n",
      " -2.64344609e-01 -7.14782897e-01  3.30580119e-01 -1.16953989e-01\n",
      " -6.07255710e-01  5.17831199e-02  1.85913049e-01  1.53479525e-01\n",
      " -9.79847300e-02 -2.29626603e-01 -3.99109348e-01 -1.47960920e-01\n",
      " -2.94639646e-01  7.05362772e-02 -6.55091782e-02  3.90061091e-01\n",
      " -5.28080007e-02 -7.22037048e-01 -3.98205803e-01 -2.13125874e-01\n",
      "  5.20953338e-01  4.39782175e-01 -3.25136284e-01  8.76690945e-03\n",
      "  2.68236295e-01  3.63997045e-01  5.06489837e-01  1.61339150e-01\n",
      "  3.15635180e-01  5.21952552e-01  4.70399115e-01  3.96138952e-01\n",
      "  1.61359126e-02 -5.04515156e-01  6.40880330e-01  3.78264184e-01\n",
      " -4.17788708e-01 -3.06860864e-01  4.34355196e-01  1.31189212e-01\n",
      " -3.31314576e-01 -9.33535343e-02 -1.29596228e-02  5.44160549e-01\n",
      " -8.69996007e-02  4.62376191e-01  3.65622219e-01 -5.10466858e-01\n",
      " -2.06523657e-01  2.81805855e-01  1.33325185e-01  3.57952118e-01\n",
      "  2.35423156e-01 -3.29462601e-01 -1.08782150e-01 -1.68072336e-01\n",
      "  1.01254464e-02  6.94949944e-02 -1.75015352e-01 -5.10225835e-02\n",
      "  4.26945723e-01 -2.72316366e-01 -6.11271063e-01 -3.49536795e-01\n",
      " -7.26779973e-02  8.72268015e-01  1.55822865e-01  5.16451852e-01\n",
      " -2.10855770e-03 -2.52731480e-01  1.66144659e-01 -2.92295000e-01\n",
      " -1.56770205e-01  8.60679194e-02  1.28397403e-01 -2.79969767e-03\n",
      "  2.57225340e-01 -1.08620372e-01  1.32571529e-01 -1.00500620e-01\n",
      " -6.36023055e-02 -2.20868984e-01 -3.31943677e-01  1.58136843e-01\n",
      " -4.23245564e-01 -7.71128230e-02  3.22300979e-01 -5.04387055e-02\n",
      "  3.52967146e-01 -8.92230676e-01 -6.22003589e-01 -6.99898626e-01\n",
      " -1.65015207e-01 -4.42729330e-02 -8.65861337e-02 -3.16298474e-01\n",
      "  2.47071203e-01  6.07766784e-01 -1.35635211e-01  5.65558199e-02\n",
      "  7.99760219e-02  5.55420435e-01 -5.24752380e-02  1.90835548e-01\n",
      " -2.39084679e-01 -5.57302104e-01 -5.76195077e-01  2.60429866e-01\n",
      "  1.90680546e-01 -1.95092244e-01  1.90208718e-01 -3.56442552e-02\n",
      "  3.23667855e-03  3.73666491e-01  9.71950005e-02 -4.35113749e-01\n",
      " -8.27047305e-01  6.17237899e-02 -3.93394705e-01 -2.07791810e-01\n",
      " -5.89379061e-01 -2.17639944e-01 -4.16460838e-02  6.41031183e-02\n",
      " -3.31261087e-01  2.28883267e-01  6.73548102e-01  3.47187653e-02\n",
      "  4.71177605e-01 -2.84760621e-01 -2.26310126e-01  8.24909521e-02\n",
      "  3.52377998e-01  3.86358230e-01  4.40294914e-01  2.99287048e-01\n",
      " -4.92746394e-01  2.92379519e-01 -2.61663680e-01 -8.90150895e-01\n",
      " -6.31604402e-02  6.34105012e-02 -3.78050811e-01 -3.96562283e-01\n",
      "  4.00082869e-01  5.20381990e-01  4.83818083e-01 -3.23418860e-01\n",
      " -3.72565806e-01  1.99908271e-01 -2.37169105e-01  4.34405986e-01\n",
      "  2.04883281e-01 -3.04232092e-01  2.37212575e-01  6.10997209e-01\n",
      " -3.42864160e-02  4.00877454e-01 -2.19255502e-01 -3.48051722e-01\n",
      " -7.29257081e-01 -4.75814750e-01 -2.57822617e-01  5.21590254e-01\n",
      "  1.56629039e-01  6.89305234e-01  2.01676221e-01  2.46205548e-02\n",
      "  1.81234691e-01 -3.36534445e-02  2.54814480e-01 -4.38415636e-01\n",
      "  3.63834663e-02  6.92244413e-02  7.50026235e-02  3.67095161e-02\n",
      "  5.61418399e-01  3.17746203e-01 -1.20085107e-01 -9.60387458e-03\n",
      " -4.21233127e-01 -2.48098839e-01  8.66542358e-01  4.32895943e-01\n",
      "  1.47334030e-01 -5.74343840e-02  2.36306550e-02  2.88719837e-01\n",
      " -2.89539046e-01 -6.49948069e-01 -6.10592731e-01 -9.34369737e-02\n",
      "  2.79878609e-01  4.16919845e-01  2.70276604e-01 -3.70404206e-02\n",
      " -3.55327912e-01  1.30980514e-01  5.67306030e-01  3.68388244e-01\n",
      " -4.63773080e-02  8.08717535e-01  3.26413812e-01 -6.02202022e-01\n",
      " -6.11467058e-01 -2.97659446e-01 -4.33431028e-01  9.56824536e-02\n",
      "  3.50705791e-01  4.09060561e-01  1.04667051e+00  1.00670571e+00\n",
      " -2.84867716e-01  1.58728546e-01  1.31953740e-01  3.04023907e-02\n",
      "  6.76282978e-01 -5.26808260e-01 -9.37442315e-02  5.56938473e-01\n",
      "  8.88837825e-01 -8.03854533e-02 -7.19097394e-02 -5.12674083e-01\n",
      "  5.68114462e-01  4.83424667e-01  6.78264279e-02  2.67053494e-01\n",
      "  4.31661048e-02 -1.41564257e-01 -1.31892544e-01 -4.45970713e-01\n",
      " -4.01855628e-01 -2.27145163e-01 -1.77723152e-01  3.37071394e-01\n",
      "  1.26635378e-01  5.30395123e-01  2.23326725e-01 -4.54793462e-01\n",
      "  2.95371226e-01 -1.52436802e-01 -4.07203962e-01  4.65595016e-02\n",
      "  3.70225069e-01  4.65522723e-01  2.94037307e-01 -1.06979803e-01\n",
      " -6.96084432e-01 -2.71480906e-02  1.60154551e-01  1.64432161e-01\n",
      " -8.67268824e-02 -6.81676789e-01 -5.37060851e-01 -2.44742504e-01\n",
      "  9.94709260e-02 -5.73002684e-02 -4.61724830e-01 -5.94893985e-01\n",
      " -6.64143916e-01 -1.55156036e-01 -2.72756371e-01 -1.21939389e-01\n",
      "  4.38541540e-01  6.12031514e-01  8.18371716e-01 -2.00340920e-01\n",
      " -8.09881997e-02 -1.05966011e-01 -7.20249917e-01 -2.95382508e-01\n",
      " -3.54236419e-01 -3.05522095e-02  3.44054840e-01  2.27281615e-01\n",
      " -5.80273828e-01 -3.96209473e-01 -1.63467342e-01 -5.11091286e-01\n",
      " -1.88998174e-01 -7.08853716e-01 -6.22620022e-01 -1.35038463e-01\n",
      " -4.05958769e-01  3.73055920e-01  1.13932250e-01 -4.39025481e-03\n",
      "  3.46440326e-01 -3.67973858e-01 -2.54938880e-01  3.48636106e-03\n",
      "  3.31094783e-02 -1.27442941e-02  5.65217154e-01  1.00496850e+00\n",
      "  5.64336332e-01  1.08369657e+00 -2.42484143e-02  2.52422730e-01\n",
      "  1.64115710e-01 -3.23267622e-01  7.50005453e-02 -4.56577393e-01\n",
      " -4.57421674e-01 -1.23181311e-02  1.23813832e-01 -2.22879614e-01\n",
      "  3.01502841e-01]\n"
     ]
    }
   ],
   "source": [
    "print \"Mean and Standard Deviation for MSE of Ridge Regression\"\n",
    "print \"Mean:\", numpy.mean([item[0] for item in mseEl]), \"Standard Deviation:\", numpy.std([item[0] for item in mseEl]), \"\\n\"\n",
    "for i in range(0, len(lambdas) - 1):\n",
    "    print \"Mean and Standard Deviation for MSE of Elastic Net with lambda of\", lambdas[i]\n",
    "    print \"Mean:\", numpy.mean([item[i + 1] for item in mseEl]), \"Standard Deviation:\", numpy.std([item[i + 1] for item in mseEl]), \"\\n\"\n",
    "print \"Mean and Standard Deviation for MSE of LASSO Regression\"\n",
    "print \"Mean:\", numpy.mean([item[len(lambdas)] for item in mseEl]), \"Standard Deviation:\", numpy.std([item[len(lambdas)] for item in mseEl]), \"\\n\"\n",
    "print \"Mean and Standard Deviation for OLS\"\n",
    "print \"Mean:\", numpy.mean(mseReg), \"Standard Deviation:\", numpy.std(mseReg)\n",
    "import matplotlib.pyplot as plt\n",
    "plt.hist([item[len(lambdas)] for item in mseEl])\n",
    "plt.show()\n",
    "print bCoefs[1][3]"
   ]
  },
  {
   "cell_type": "markdown",
   "metadata": {},
   "source": [
    "# Empirical Example\n",
    "In this section give relevant background information on the empirical example you have chosen.\n",
    "## Description of the Data and Setting\n",
    "Show summary statistics and graphs of your data. "
   ]
  },
  {
   "cell_type": "code",
   "execution_count": null,
   "metadata": {
    "collapsed": true
   },
   "outputs": [],
   "source": [
    "# Include the code which loads the data, displays summary statistics and graphs right here."
   ]
  },
  {
   "cell_type": "markdown",
   "metadata": {},
   "source": [
    "## Results"
   ]
  },
  {
   "cell_type": "code",
   "execution_count": null,
   "metadata": {
    "collapsed": true
   },
   "outputs": [],
   "source": [
    "# include code that implements your method and reports the results."
   ]
  },
  {
   "cell_type": "markdown",
   "metadata": {},
   "source": [
    "Do not forget to discuss and interpret your results."
   ]
  },
  {
   "cell_type": "markdown",
   "metadata": {},
   "source": [
    "# Conclusion\n",
    "Summarize what you have taught us in this section."
   ]
  }
 ],
 "metadata": {
  "kernelspec": {
   "display_name": "Python 2",
   "language": "python",
   "name": "python2"
  },
  "language_info": {
   "codemirror_mode": {
    "name": "ipython",
    "version": 2
   },
   "file_extension": ".py",
   "mimetype": "text/x-python",
   "name": "python",
   "nbconvert_exporter": "python",
   "pygments_lexer": "ipython2",
   "version": "2.7.12"
  }
 },
 "nbformat": 4,
 "nbformat_minor": 2
}
